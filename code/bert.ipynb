{
 "cells": [
  {
   "cell_type": "code",
   "execution_count": null,
   "metadata": {},
   "outputs": [],
   "source": []
  },
  {
   "cell_type": "code",
   "execution_count": null,
   "metadata": {},
   "outputs": [],
   "source": []
  },
  {
   "cell_type": "code",
   "execution_count": null,
   "metadata": {},
   "outputs": [],
   "source": [
    "\n",
    "prompt='[CLS] নিম্নলিখিত পাঠ্যের অনুভূতি হল {\"mask\"}: {\"placeholder\":\"text_a\"} [SEP]'\n",
    "bert_model(\"roberta\", \"xlm-roberta-base\", df_shuffled, 10, [\"text\", \"label\"], dd,prompt)"
   ]
  },
  {
   "cell_type": "code",
   "execution_count": null,
   "metadata": {},
   "outputs": [],
   "source": [
    "# bert_model(\"bert\",\"google-bert/bert-base-multilingual-cased\",df_shuffled,10,[\"text\",\"label\"],dd)\n"
   ]
  }
 ],
 "metadata": {
  "kernelspec": {
   "display_name": "openprompt",
   "language": "python",
   "name": "python3"
  },
  "language_info": {
   "codemirror_mode": {
    "name": "ipython",
    "version": 3
   },
   "file_extension": ".py",
   "mimetype": "text/x-python",
   "name": "python",
   "nbconvert_exporter": "python",
   "pygments_lexer": "ipython3",
   "version": "3.8.19"
  }
 },
 "nbformat": 4,
 "nbformat_minor": 2
}
