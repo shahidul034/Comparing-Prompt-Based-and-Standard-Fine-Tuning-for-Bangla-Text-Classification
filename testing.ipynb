{
 "cells": [
  {
   "cell_type": "markdown",
   "metadata": {},
   "source": [
    "11_ABSA_Datasets"
   ]
  },
  {
   "cell_type": "code",
   "execution_count": null,
   "metadata": {},
   "outputs": [],
   "source": [
    "import pandas as pd\n",
    "import os\n",
    "dat=[]\n",
    "f=open(\"(1) bangla-sentiment-classification/dataset_details.txt\",\"a\")\n",
    "path=\"(1) bangla-sentiment-classification\\data\\ABSA_Datasets\"\n",
    "for x in os.listdir(path):\n",
    "    df = pd.read_csv(os.path.join(path,x), delimiter='\\t')\n",
    "    s=set(df['class_label'])\n",
    "    dict1=[]\n",
    "    dat.append(df)\n",
    "    for s1 in s:\n",
    "        dict1.append(\n",
    "            {\n",
    "                \"class_name\":s1,\n",
    "                \"length\":len(df[df['class_label'] == s1]) \n",
    "            }\n",
    "        )\n",
    "    st=f\"dataset name: {x} class_details: {[xx for xx in dict1]} length: {len(df)}\\n\"\n",
    "    # f.write(st)"
   ]
  },
  {
   "cell_type": "code",
   "execution_count": null,
   "metadata": {},
   "outputs": [],
   "source": [
    "result = pd.concat(dat, ignore_index=True)\n",
    "result.head()"
   ]
  },
  {
   "cell_type": "code",
   "execution_count": null,
   "metadata": {},
   "outputs": [],
   "source": [
    "result.to_excel(\"testing data//ABSA_Datasets.xlsx\",index=False)"
   ]
  },
  {
   "cell_type": "code",
   "execution_count": null,
   "metadata": {},
   "outputs": [],
   "source": [
    "import pandas as pd\n",
    "data=pd.read_excel(\"testing data//ABSA_Datasets.xlsx\")\n",
    "data.head()"
   ]
  },
  {
   "cell_type": "markdown",
   "metadata": {},
   "source": [
    "CogniSenti"
   ]
  },
  {
   "cell_type": "code",
   "execution_count": null,
   "metadata": {},
   "outputs": [],
   "source": [
    "import pandas as pd\n",
    "import os\n",
    "dat=[]\n",
    "f=open(\"(1) bangla-sentiment-classification/CogniSenti.txt\",\"a\")\n",
    "path=\"(1) bangla-sentiment-classification\\data\\CogniSenti\"\n",
    "for x in os.listdir(path):\n",
    "    df = pd.read_csv(os.path.join(path,x), delimiter='\\t')\n",
    "    dat.append(df)\n",
    "    s=set(df['class_label'])\n",
    "    dict1=[]\n",
    "    for s1 in s:\n",
    "        dict1.append(\n",
    "            {\n",
    "                \"class_name\":s1,\n",
    "                \"length\":len(df[df['class_label'] == s1]) \n",
    "            }\n",
    "        )\n",
    "    st=f\"dataset name: {x} class_details: {[xx for xx in dict1]} length: {len(df)}\\n\"\n",
    "    # f.write(st)"
   ]
  },
  {
   "cell_type": "code",
   "execution_count": null,
   "metadata": {},
   "outputs": [],
   "source": [
    "result = pd.concat(dat, ignore_index=True)\n",
    "print(result.head())\n",
    "result.to_excel(\"testing data//CogniSenti.xlsx\",index=False)"
   ]
  },
  {
   "cell_type": "code",
   "execution_count": null,
   "metadata": {},
   "outputs": [],
   "source": []
  },
  {
   "cell_type": "markdown",
   "metadata": {},
   "source": [
    "multichannel_bsentiment"
   ]
  },
  {
   "cell_type": "code",
   "execution_count": null,
   "metadata": {},
   "outputs": [],
   "source": [
    "import pandas as pd\n",
    "import os\n",
    "dat=[]\n",
    "f=open(\"(1) bangla-sentiment-classification/multichannel_bsentiment.txt\",\"a\")\n",
    "path=\"(1) bangla-sentiment-classification\\data\\multichannel_bsentiment\"\n",
    "for x in os.listdir(path):\n",
    "    if x==\".DS_Store\":\n",
    "        continue\n",
    "    df = pd.read_csv(os.path.join(path,x), delimiter='\\t')\n",
    "    dat.append(df)\n",
    "    s=set(df['class_label'])\n",
    "    dict1=[]\n",
    "    for s1 in s:\n",
    "        dict1.append(\n",
    "            {\n",
    "                \"class_name\":s1,\n",
    "                \"length\":len(df[df['class_label'] == s1]) \n",
    "            }\n",
    "        )\n",
    "    st=f\"dataset name: {x} class_details: {[xx for xx in dict1]} length: {len(df)}\\n\"\n",
    "    f.write(st)\n"
   ]
  },
  {
   "cell_type": "code",
   "execution_count": null,
   "metadata": {},
   "outputs": [],
   "source": [
    "result = pd.concat(dat, ignore_index=True)\n",
    "print(result.head())\n",
    "result.to_excel(\"testing data//multichannel_bsentiment.xlsx\",index=False)"
   ]
  },
  {
   "cell_type": "markdown",
   "metadata": {},
   "source": [
    "youtube_sentiment "
   ]
  },
  {
   "cell_type": "code",
   "execution_count": null,
   "metadata": {},
   "outputs": [],
   "source": [
    "import pandas as pd\n",
    "import os\n",
    "dat=[]\n",
    "f=open(\"(1) bangla-sentiment-classification/youtube_sentiment.txt\",\"a\")\n",
    "path=\"(1) bangla-sentiment-classification\\data\\youtube_sentiment\"\n",
    "for x in os.listdir(path):\n",
    "    df = pd.read_csv(os.path.join(path,x), delimiter='\\t')\n",
    "    dat.append(df)\n",
    "    s=set(df['class_label'])\n",
    "    dict1=[]\n",
    "    for s1 in s:\n",
    "        dict1.append(\n",
    "            {\n",
    "                \"class_name\":s1,\n",
    "                \"length\":len(df[df['class_label'] == s1]) \n",
    "            }\n",
    "        )\n",
    "    st=f\"dataset name: {x} class_details: {[xx for xx in dict1]} length: {len(df)}\\n\"\n",
    "    f.write(st)\n"
   ]
  },
  {
   "cell_type": "code",
   "execution_count": null,
   "metadata": {},
   "outputs": [],
   "source": [
    "result = pd.concat(dat, ignore_index=True)\n",
    "print(result.head())\n",
    "result.to_excel(\"testing data//youtube_sentiment.xlsx\",index=False)"
   ]
  },
  {
   "cell_type": "markdown",
   "metadata": {},
   "source": [
    "(2)SentNoB Dataset"
   ]
  },
  {
   "cell_type": "code",
   "execution_count": null,
   "metadata": {},
   "outputs": [],
   "source": [
    "import pandas as pd\n",
    "import os\n",
    "dat=[]\n",
    "f=open(\"SentNoB_Dataset.txt\",\"a\")\n",
    "path=\"(2) SentNoB Dataset\"\n",
    "for x in os.listdir(path):\n",
    "    df = pd.read_csv(os.path.join(path,x))\n",
    "    dat.append(df)\n",
    "    s=set(df['Label'])\n",
    "    dict1=[]\n",
    "    for s1 in s:\n",
    "        dict1.append(\n",
    "            {\n",
    "                \"class_name\":s1,\n",
    "                \"length\":len(df[df['Label'] == s1]) \n",
    "            }\n",
    "        )\n",
    "    st=f\"dataset name: {x} class_details: {[xx for xx in dict1]} length: {len(df)}\\n\"\n",
    "    # f.write(st)\n"
   ]
  },
  {
   "cell_type": "code",
   "execution_count": null,
   "metadata": {},
   "outputs": [],
   "source": [
    "dat[0]"
   ]
  },
  {
   "cell_type": "code",
   "execution_count": null,
   "metadata": {},
   "outputs": [],
   "source": [
    "result = pd.concat(dat, ignore_index=True)\n",
    "print(result.head())\n",
    "result.to_excel(\"testing data//SentNoB.xlsx\",index=False)"
   ]
  },
  {
   "cell_type": "markdown",
   "metadata": {},
   "source": [
    "Bangla ( Bengali ) sentiment analysis classification benchmark dataset corpus(BSACD)"
   ]
  },
  {
   "cell_type": "code",
   "execution_count": null,
   "metadata": {},
   "outputs": [],
   "source": [
    "import os\n",
    "dict1=[]\n",
    "f=open(\"4_Bangla_sentiment_analysis_classification_benchmark_dataset_corpus.txt\",\"a\")\n",
    "path=\"(4) Bangla ( Bengali ) sentiment analysis classification benchmark dataset corpus\"\n",
    "for x in os.listdir(path):\n",
    "    df = open(os.path.join(path,x),\"r\").read().split(\"\\n\")\n",
    "    if x==\"README.txt\":\n",
    "        continue\n",
    "    for x2 in df:    \n",
    "        dict1.append({\n",
    "            \"text\":x2,\n",
    "            \"label\":x.split(\"_\")[1]\n",
    "        })\n",
    "    st=f\"dataset name: {x} class_details: {x}: length: {len(df)}\\n\"\n",
    "    # f.write(st)\n"
   ]
  },
  {
   "cell_type": "code",
   "execution_count": null,
   "metadata": {},
   "outputs": [],
   "source": []
  },
  {
   "cell_type": "code",
   "execution_count": null,
   "metadata": {},
   "outputs": [],
   "source": [
    "result = pd.DataFrame(dict1)\n",
    "print(result.head())\n",
    "# result.to_excel(\"testing data//BSACD.xlsx\",index=False)"
   ]
  },
  {
   "cell_type": "markdown",
   "metadata": {},
   "source": [
    "(5) Sentiment Dataset (Bangla Text)"
   ]
  },
  {
   "cell_type": "code",
   "execution_count": null,
   "metadata": {},
   "outputs": [],
   "source": [
    "import pandas as pd\n",
    "import os\n",
    "dat=[]\n",
    "f=open(\"5_Sentiment_Dataset.txt\",\"a\")\n",
    "path=\"(5) Sentiment Dataset (Bangla Text)\"\n",
    "for x in os.listdir(path):\n",
    "    df = pd.read_excel(os.path.join(path,x))\n",
    "    dat.append(df)\n",
    "    s=set(df['Tag'])\n",
    "    dict1=[]\n",
    "    for s1 in s:\n",
    "        dict1.append(\n",
    "            {\n",
    "                \"class_name\":s1,\n",
    "                \"length\":len(df[df['Tag'] == s1]) \n",
    "            }\n",
    "        )\n",
    "    st=f\"dataset name: {x} class_details: {[xx for xx in dict1]} length: {len(df)}\\n\"\n",
    "    # f.write(st)\n"
   ]
  },
  {
   "cell_type": "code",
   "execution_count": null,
   "metadata": {},
   "outputs": [],
   "source": [
    "result = pd.concat(dat, ignore_index=True)\n",
    "# print(result.head())\n",
    "# result.to_excel(\"testing data//5_Sentiment_Dataset.xlsx\",index=False)"
   ]
  },
  {
   "cell_type": "markdown",
   "metadata": {},
   "source": [
    "(6) Data Set For Sentiment Analysis On Bengali News Comments(dsfsa)"
   ]
  },
  {
   "cell_type": "code",
   "execution_count": null,
   "metadata": {},
   "outputs": [],
   "source": [
    "import pandas as pd\n",
    "import os\n",
    "dat=[]\n",
    "f=open(\"(6) Data Set For Sentiment Analysis On Bengali News Comments.txt\",\"a\")\n",
    "path=\"(6) Data Set For Sentiment Analysis On Bengali News Comments\"\n",
    "for x in os.listdir(path):\n",
    "    df = pd.read_csv(os.path.join(path,x))\n",
    "    dat.append(df)\n",
    "    s=set(df['tag'])\n",
    "    dict1=[]\n",
    "    for s1 in s:\n",
    "        dict1.append(\n",
    "            {\n",
    "                \"class_name\":s1,\n",
    "                \"length\":len(df[df['tag'] == s1]) \n",
    "            }\n",
    "        )\n",
    "    st=f\"dataset name: {x} class_details: {[xx for xx in dict1]} length: {len(df)}\\n\"\n",
    "    f.write(st)\n"
   ]
  },
  {
   "cell_type": "code",
   "execution_count": null,
   "metadata": {},
   "outputs": [],
   "source": [
    "df=pd.read_excel(\"testing data//dsfsa.xlsx\")\n",
    "df.head()"
   ]
  },
  {
   "cell_type": "code",
   "execution_count": null,
   "metadata": {},
   "outputs": [],
   "source": [
    "result = pd.concat(dat, ignore_index=True)\n",
    "print(result.head())\n",
    "result.to_excel(\"testing data//dsfsa.xlsx\",index=False)"
   ]
  },
  {
   "cell_type": "markdown",
   "metadata": {},
   "source": [
    "(7) BanglaBook"
   ]
  },
  {
   "cell_type": "code",
   "execution_count": null,
   "metadata": {},
   "outputs": [],
   "source": [
    "import pandas as pd\n",
    "import os\n",
    "dat=[]\n",
    "f=open(\"(7) BanglaBook.txt\",\"a\")\n",
    "path=\"(7) BanglaBook\\data\\csv\"\n",
    "for x in os.listdir(path):\n",
    "    df = pd.read_csv(os.path.join(path,x))\n",
    "    dat.append(df)\n",
    "    # print(df.head())\n",
    "    s=set(df['label'])\n",
    "    dict1=[]\n",
    "    for s1 in s:\n",
    "        dict1.append(\n",
    "            {\n",
    "                \"class_name\":s1,\n",
    "                \"length\":len(df[df['label'] == s1]) \n",
    "            }\n",
    "        )\n",
    "    st=f\"dataset name: {x} class_details: {[xx for xx in dict1]} length: {len(df)}\\n\"\n",
    "    # f.write(st)\n"
   ]
  },
  {
   "cell_type": "code",
   "execution_count": null,
   "metadata": {},
   "outputs": [],
   "source": [
    "result = pd.concat(dat, ignore_index=True)\n",
    "print(result.head())\n",
    "result.to_excel(\"testing data//BanglaBook.xlsx\",index=False)"
   ]
  },
  {
   "cell_type": "code",
   "execution_count": null,
   "metadata": {},
   "outputs": [],
   "source": []
  }
 ],
 "metadata": {
  "kernelspec": {
   "display_name": "ai_clssifier",
   "language": "python",
   "name": "python3"
  },
  "language_info": {
   "codemirror_mode": {
    "name": "ipython",
    "version": 3
   },
   "file_extension": ".py",
   "mimetype": "text/x-python",
   "name": "python",
   "nbconvert_exporter": "python",
   "pygments_lexer": "ipython3",
   "version": "3.10.13"
  }
 },
 "nbformat": 4,
 "nbformat_minor": 2
}
