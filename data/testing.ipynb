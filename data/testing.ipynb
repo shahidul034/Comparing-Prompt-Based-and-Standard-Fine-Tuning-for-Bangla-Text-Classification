{
 "cells": [
  {
   "cell_type": "markdown",
   "metadata": {},
   "source": [
    "11_ABSA_Datasets"
   ]
  },
  {
   "cell_type": "code",
   "execution_count": null,
   "metadata": {},
   "outputs": [],
   "source": [
    "import pandas as pd\n",
    "import os\n",
    "dat=[]\n",
    "f=open(\"(1) bangla-sentiment-classification/dataset_details.txt\",\"a\")\n",
    "path=\"(1) bangla-sentiment-classification\\data\\ABSA_Datasets\"\n",
    "for x in os.listdir(path):\n",
    "    df = pd.read_csv(os.path.join(path,x), delimiter='\\t')\n",
    "    s=set(df['class_label'])\n",
    "    dict1=[]\n",
    "    dat.append(df)\n",
    "    for s1 in s:\n",
    "        dict1.append(\n",
    "            {\n",
    "                \"class_name\":s1,\n",
    "                \"length\":len(df[df['class_label'] == s1]) \n",
    "            }\n",
    "        )\n",
    "    st=f\"dataset name: {x} class_details: {[xx for xx in dict1]} length: {len(df)}\\n\"\n",
    "    # f.write(st)"
   ]
  },
  {
   "cell_type": "code",
   "execution_count": null,
   "metadata": {},
   "outputs": [],
   "source": [
    "result = pd.concat(dat, ignore_index=True)\n",
    "result.head()"
   ]
  },
  {
   "cell_type": "code",
   "execution_count": null,
   "metadata": {},
   "outputs": [],
   "source": [
    "result.to_excel(\"testing data//ABSA_Datasets.xlsx\",index=False)"
   ]
  },
  {
   "cell_type": "code",
   "execution_count": null,
   "metadata": {},
   "outputs": [],
   "source": [
    "import pandas as pd\n",
    "data=pd.read_excel(\"testing data//ABSA_Datasets.xlsx\")\n",
    "data.head()"
   ]
  },
  {
   "cell_type": "markdown",
   "metadata": {},
   "source": [
    "CogniSenti"
   ]
  },
  {
   "cell_type": "code",
   "execution_count": null,
   "metadata": {},
   "outputs": [],
   "source": [
    "import pandas as pd\n",
    "import os\n",
    "dat=[]\n",
    "f=open(\"(1) bangla-sentiment-classification/CogniSenti.txt\",\"a\")\n",
    "path=\"(1) bangla-sentiment-classification\\data\\CogniSenti\"\n",
    "for x in os.listdir(path):\n",
    "    df = pd.read_csv(os.path.join(path,x), delimiter='\\t')\n",
    "    dat.append(df)\n",
    "    s=set(df['class_label'])\n",
    "    dict1=[]\n",
    "    for s1 in s:\n",
    "        dict1.append(\n",
    "            {\n",
    "                \"class_name\":s1,\n",
    "                \"length\":len(df[df['class_label'] == s1]) \n",
    "            }\n",
    "        )\n",
    "    st=f\"dataset name: {x} class_details: {[xx for xx in dict1]} length: {len(df)}\\n\"\n",
    "    # f.write(st)"
   ]
  },
  {
   "cell_type": "code",
   "execution_count": null,
   "metadata": {},
   "outputs": [],
   "source": [
    "result = pd.concat(dat, ignore_index=True)\n",
    "print(result.head())\n",
    "result.to_excel(\"testing data//CogniSenti.xlsx\",index=False)"
   ]
  },
  {
   "cell_type": "code",
   "execution_count": null,
   "metadata": {},
   "outputs": [],
   "source": []
  },
  {
   "cell_type": "markdown",
   "metadata": {},
   "source": [
    "multichannel_bsentiment"
   ]
  },
  {
   "cell_type": "code",
   "execution_count": null,
   "metadata": {},
   "outputs": [],
   "source": [
    "import pandas as pd\n",
    "import os\n",
    "dat=[]\n",
    "f=open(\"(1) bangla-sentiment-classification/multichannel_bsentiment.txt\",\"a\")\n",
    "path=\"(1) bangla-sentiment-classification\\data\\multichannel_bsentiment\"\n",
    "for x in os.listdir(path):\n",
    "    if x==\".DS_Store\":\n",
    "        continue\n",
    "    df = pd.read_csv(os.path.join(path,x), delimiter='\\t')\n",
    "    dat.append(df)\n",
    "    s=set(df['class_label'])\n",
    "    dict1=[]\n",
    "    for s1 in s:\n",
    "        dict1.append(\n",
    "            {\n",
    "                \"class_name\":s1,\n",
    "                \"length\":len(df[df['class_label'] == s1]) \n",
    "            }\n",
    "        )\n",
    "    st=f\"dataset name: {x} class_details: {[xx for xx in dict1]} length: {len(df)}\\n\"\n",
    "    f.write(st)\n"
   ]
  },
  {
   "cell_type": "code",
   "execution_count": null,
   "metadata": {},
   "outputs": [],
   "source": [
    "result = pd.concat(dat, ignore_index=True)\n",
    "print(result.head())\n",
    "result.to_excel(\"testing data//multichannel_bsentiment.xlsx\",index=False)"
   ]
  },
  {
   "cell_type": "markdown",
   "metadata": {},
   "source": [
    "youtube_sentiment "
   ]
  },
  {
   "cell_type": "code",
   "execution_count": null,
   "metadata": {},
   "outputs": [],
   "source": [
    "import pandas as pd\n",
    "import os\n",
    "dat=[]\n",
    "f=open(\"(1) bangla-sentiment-classification/youtube_sentiment.txt\",\"a\")\n",
    "path=\"(1) bangla-sentiment-classification\\data\\youtube_sentiment\"\n",
    "for x in os.listdir(path):\n",
    "    df = pd.read_csv(os.path.join(path,x), delimiter='\\t')\n",
    "    dat.append(df)\n",
    "    s=set(df['class_label'])\n",
    "    dict1=[]\n",
    "    for s1 in s:\n",
    "        dict1.append(\n",
    "            {\n",
    "                \"class_name\":s1,\n",
    "                \"length\":len(df[df['class_label'] == s1]) \n",
    "            }\n",
    "        )\n",
    "    st=f\"dataset name: {x} class_details: {[xx for xx in dict1]} length: {len(df)}\\n\"\n",
    "    f.write(st)\n"
   ]
  },
  {
   "cell_type": "code",
   "execution_count": null,
   "metadata": {},
   "outputs": [],
   "source": [
    "result = pd.concat(dat, ignore_index=True)\n",
    "print(result.head())\n",
    "result.to_excel(\"testing data//youtube_sentiment.xlsx\",index=False)"
   ]
  },
  {
   "cell_type": "markdown",
   "metadata": {},
   "source": [
    "(2)SentNoB Dataset"
   ]
  },
  {
   "cell_type": "code",
   "execution_count": null,
   "metadata": {},
   "outputs": [],
   "source": [
    "import pandas as pd\n",
    "import os\n",
    "dat=[]\n",
    "f=open(\"SentNoB_Dataset.txt\",\"a\")\n",
    "path=\"(2) SentNoB Dataset\"\n",
    "for x in os.listdir(path):\n",
    "    df = pd.read_csv(os.path.join(path,x))\n",
    "    dat.append(df)\n",
    "    s=set(df['Label'])\n",
    "    dict1=[]\n",
    "    for s1 in s:\n",
    "        dict1.append(\n",
    "            {\n",
    "                \"class_name\":s1,\n",
    "                \"length\":len(df[df['Label'] == s1]) \n",
    "            }\n",
    "        )\n",
    "    st=f\"dataset name: {x} class_details: {[xx for xx in dict1]} length: {len(df)}\\n\"\n",
    "    # f.write(st)\n"
   ]
  },
  {
   "cell_type": "code",
   "execution_count": null,
   "metadata": {},
   "outputs": [],
   "source": [
    "dat[0]"
   ]
  },
  {
   "cell_type": "code",
   "execution_count": null,
   "metadata": {},
   "outputs": [],
   "source": [
    "result = pd.concat(dat, ignore_index=True)\n",
    "print(result.head())\n",
    "result.to_excel(\"testing data//SentNoB.xlsx\",index=False)"
   ]
  },
  {
   "cell_type": "markdown",
   "metadata": {},
   "source": [
    "Bangla ( Bengali ) sentiment analysis classification benchmark dataset corpus(BSACD)"
   ]
  },
  {
   "cell_type": "code",
   "execution_count": null,
   "metadata": {},
   "outputs": [],
   "source": [
    "import os\n",
    "dict1=[]\n",
    "f=open(\"4_Bangla_sentiment_analysis_classification_benchmark_dataset_corpus.txt\",\"a\")\n",
    "path=\"(4) Bangla ( Bengali ) sentiment analysis classification benchmark dataset corpus\"\n",
    "for x in os.listdir(path):\n",
    "    df = open(os.path.join(path,x),\"r\").read().split(\"\\n\")\n",
    "    if x==\"README.txt\":\n",
    "        continue\n",
    "    for x2 in df:    \n",
    "        dict1.append({\n",
    "            \"text\":x2,\n",
    "            \"label\":x.split(\"_\")[1]\n",
    "        })\n",
    "    st=f\"dataset name: {x} class_details: {x}: length: {len(df)}\\n\"\n",
    "    # f.write(st)\n"
   ]
  },
  {
   "cell_type": "code",
   "execution_count": null,
   "metadata": {},
   "outputs": [],
   "source": []
  },
  {
   "cell_type": "code",
   "execution_count": null,
   "metadata": {},
   "outputs": [],
   "source": [
    "result = pd.DataFrame(dict1)\n",
    "print(result.head())\n",
    "# result.to_excel(\"testing data//BSACD.xlsx\",index=False)"
   ]
  },
  {
   "cell_type": "markdown",
   "metadata": {},
   "source": [
    "(5) Sentiment Dataset (Bangla Text)"
   ]
  },
  {
   "cell_type": "code",
   "execution_count": null,
   "metadata": {},
   "outputs": [],
   "source": [
    "import pandas as pd\n",
    "import os\n",
    "dat=[]\n",
    "f=open(\"5_Sentiment_Dataset.txt\",\"a\")\n",
    "path=\"(5) Sentiment Dataset (Bangla Text)\"\n",
    "for x in os.listdir(path):\n",
    "    df = pd.read_excel(os.path.join(path,x))\n",
    "    dat.append(df)\n",
    "    s=set(df['Tag'])\n",
    "    dict1=[]\n",
    "    for s1 in s:\n",
    "        dict1.append(\n",
    "            {\n",
    "                \"class_name\":s1,\n",
    "                \"length\":len(df[df['Tag'] == s1]) \n",
    "            }\n",
    "        )\n",
    "    st=f\"dataset name: {x} class_details: {[xx for xx in dict1]} length: {len(df)}\\n\"\n",
    "    # f.write(st)\n"
   ]
  },
  {
   "cell_type": "code",
   "execution_count": null,
   "metadata": {},
   "outputs": [],
   "source": [
    "result = pd.concat(dat, ignore_index=True)\n",
    "# print(result.head())\n",
    "# result.to_excel(\"testing data//5_Sentiment_Dataset.xlsx\",index=False)"
   ]
  },
  {
   "cell_type": "markdown",
   "metadata": {},
   "source": [
    "(6) Data Set For Sentiment Analysis On Bengali News Comments(dsfsa)"
   ]
  },
  {
   "cell_type": "code",
   "execution_count": null,
   "metadata": {},
   "outputs": [],
   "source": [
    "import pandas as pd\n",
    "import os\n",
    "dat=[]\n",
    "f=open(\"(6) Data Set For Sentiment Analysis On Bengali News Comments.txt\",\"a\")\n",
    "path=\"(6) Data Set For Sentiment Analysis On Bengali News Comments\"\n",
    "for x in os.listdir(path):\n",
    "    df = pd.read_csv(os.path.join(path,x))\n",
    "    dat.append(df)\n",
    "    s=set(df['tag'])\n",
    "    dict1=[]\n",
    "    for s1 in s:\n",
    "        dict1.append(\n",
    "            {\n",
    "                \"class_name\":s1,\n",
    "                \"length\":len(df[df['tag'] == s1]) \n",
    "            }\n",
    "        )\n",
    "    st=f\"dataset name: {x} class_details: {[xx for xx in dict1]} length: {len(df)}\\n\"\n",
    "    f.write(st)\n"
   ]
  },
  {
   "cell_type": "code",
   "execution_count": null,
   "metadata": {},
   "outputs": [],
   "source": [
    "result = pd.concat(dat, ignore_index=True)\n",
    "print(result.head())\n",
    "result.to_excel(\"testing data//dsfsa.xlsx\",index=False)"
   ]
  },
  {
   "cell_type": "markdown",
   "metadata": {},
   "source": [
    "(7) BanglaBook"
   ]
  },
  {
   "cell_type": "code",
   "execution_count": null,
   "metadata": {},
   "outputs": [],
   "source": [
    "import pandas as pd\n",
    "import os\n",
    "dat=[]\n",
    "f=open(\"(7) BanglaBook.txt\",\"a\")\n",
    "path=\"(7) BanglaBook\\data\\csv\"\n",
    "for x in os.listdir(path):\n",
    "    df = pd.read_csv(os.path.join(path,x))\n",
    "    dat.append(df)\n",
    "    # print(df.head())\n",
    "    s=set(df['label'])\n",
    "    dict1=[]\n",
    "    for s1 in s:\n",
    "        dict1.append(\n",
    "            {\n",
    "                \"class_name\":s1,\n",
    "                \"length\":len(df[df['label'] == s1]) \n",
    "            }\n",
    "        )\n",
    "    st=f\"dataset name: {x} class_details: {[xx for xx in dict1]} length: {len(df)}\\n\"\n",
    "    # f.write(st)\n"
   ]
  },
  {
   "cell_type": "code",
   "execution_count": null,
   "metadata": {},
   "outputs": [],
   "source": [
    "result = pd.concat(dat, ignore_index=True)\n",
    "print(result.head())\n",
    "result.to_excel(\"testing data//BanglaBook.xlsx\",index=False)"
   ]
  },
  {
   "cell_type": "code",
   "execution_count": null,
   "metadata": {},
   "outputs": [],
   "source": [
    "# Adjust the code to handle table creation and filling properly.\n",
    "\n",
    "from docx import Document\n",
    "from docx.shared import Pt\n",
    "from docx.enum.text import WD_ALIGN_PARAGRAPH\n",
    "\n",
    "# Create a new Document\n",
    "doc = Document()\n",
    "\n",
    "# Add a title to the document\n",
    "doc.add_heading('ResNet-50 Architecture', level=1)\n",
    "\n",
    "# Define the data for the table\n",
    "table_data = [\n",
    "    ['Stage', 'Layer Name', 'Filter Size / Stride', 'Output Size', 'Number of Filters'],\n",
    "    ['0', 'Conv1', '7x7 / 2', '112x112x64', '64'],\n",
    "    ['0', 'Max Pool', '3x3 / 2', '56x56x64', '-'],\n",
    "    ['1', 'Conv2_x (3 blocks)', '1x1, 3x3, 1x1', '56x56x256', '64, 64, 256'],\n",
    "    ['2', 'Conv3_x (4 blocks)', '1x1, 3x3, 1x1', '28x28x512', '128, 128, 512'],\n",
    "    ['3', 'Conv4_x (6 blocks)', '1x1, 3x3, 1x1', '14x14x1024', '256, 256, 1024'],\n",
    "    ['4', 'Conv5_x (3 blocks)', '1x1, 3x3, 1x1', '7x7x2048', '512, 512, 2048'],\n",
    "    ['5', 'Global Average Pooling', '-', '1x1x2048', '-'],\n",
    "    ['6', 'Fully Connected (FC)', '-', '1x1x1000', '1000']\n",
    "]\n",
    "\n",
    "# Add the table with appropriate number of rows and columns\n",
    "table = doc.add_table(rows=len(table_data), cols=len(table_data[0]))\n",
    "\n",
    "# Populate the table\n",
    "for row_idx, row_data in enumerate(table_data):\n",
    "    row = table.rows[row_idx]\n",
    "    for col_idx, cell_data in enumerate(row_data):\n",
    "        cell = row.cells[col_idx]\n",
    "        cell.text = cell_data\n",
    "        for paragraph in cell.paragraphs:\n",
    "            paragraph.alignment = WD_ALIGN_PARAGRAPH.CENTER\n",
    "            for run in paragraph.runs:\n",
    "                run.font.size = Pt(10)\n",
    "\n",
    "# Save the document\n",
    "doc_path = \"ResNet-50_Architecture.docx\"\n",
    "doc.save(doc_path)\n",
    "\n",
    "doc_path\n"
   ]
  }
 ],
 "metadata": {
  "kernelspec": {
   "display_name": "ai_clssifier",
   "language": "python",
   "name": "python3"
  },
  "language_info": {
   "codemirror_mode": {
    "name": "ipython",
    "version": 3
   },
   "file_extension": ".py",
   "mimetype": "text/x-python",
   "name": "python",
   "nbconvert_exporter": "python",
   "pygments_lexer": "ipython3",
   "version": "3.10.13"
  }
 },
 "nbformat": 4,
 "nbformat_minor": 2
}
