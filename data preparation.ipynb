{
 "cells": [
  {
   "cell_type": "markdown",
   "metadata": {},
   "source": [
    "11_ABSA_Datasets"
   ]
  },
  {
   "cell_type": "code",
   "execution_count": null,
   "metadata": {},
   "outputs": [],
   "source": [
    "import pandas as pd\n",
    "import os\n",
    "dat=[]\n",
    "df = pd.read_excel(\"testing data\\ABSA_Datasets.xlsx\")\n",
    "df = df.drop(['id'], axis=1)\n",
    "dd=[]\n",
    "[dd.append([str(x)]) for x in set(df['class_label'])]\n",
    "s=set(df['class_label'])\n",
    "class_map={}\n",
    "for idx,x in enumerate(s):\n",
    "    class_map[x]=idx\n",
    "df['label']=[class_map[x] for x in df['class_label']]\n",
    "df.head()"
   ]
  },
  {
   "cell_type": "code",
   "execution_count": null,
   "metadata": {},
   "outputs": [],
   "source": [
    "df.to_excel(\"testing_data2//ABSA_Datasets.xlsx\",index=False)"
   ]
  },
  {
   "cell_type": "markdown",
   "metadata": {},
   "source": [
    "CogniSenti"
   ]
  },
  {
   "cell_type": "code",
   "execution_count": null,
   "metadata": {},
   "outputs": [],
   "source": [
    "df = pd.read_excel(\"testing data\\CogniSenti.xlsx\")\n",
    "df = df.drop(['id'], axis=1)\n",
    "dd=[]\n",
    "[dd.append([str(x)]) for x in set(df['class_label'])]\n",
    "s=set(df['class_label'])\n",
    "class_map={}\n",
    "for idx,x in enumerate(s):\n",
    "    class_map[x]=idx\n",
    "df['label']=[class_map[x] for x in df['class_label']]\n",
    "df.head()"
   ]
  },
  {
   "cell_type": "code",
   "execution_count": null,
   "metadata": {},
   "outputs": [],
   "source": [
    "df.to_excel(\"testing_data2//CogniSenti.xlsx\",index=False)"
   ]
  },
  {
   "cell_type": "markdown",
   "metadata": {},
   "source": [
    "multichannel_bsentiment"
   ]
  },
  {
   "cell_type": "code",
   "execution_count": null,
   "metadata": {},
   "outputs": [],
   "source": [
    "df = pd.read_excel(\"testing data\\multichannel_bsentiment.xlsx\")\n",
    "df = df.drop(['id'], axis=1)\n",
    "dd=[]\n",
    "[dd.append([str(x)]) for x in set(df['class_label'])]\n",
    "s=set(df['class_label'])\n",
    "class_map={}\n",
    "for idx,x in enumerate(s):\n",
    "    class_map[x]=idx\n",
    "df['label']=[class_map[x] for x in df['class_label']]\n",
    "df.head()"
   ]
  },
  {
   "cell_type": "code",
   "execution_count": null,
   "metadata": {},
   "outputs": [],
   "source": [
    "df.to_excel(\"testing_data2//multichannel_bsentiment.xlsx\",index=False)"
   ]
  },
  {
   "cell_type": "markdown",
   "metadata": {},
   "source": [
    "youtube_sentiment "
   ]
  },
  {
   "cell_type": "code",
   "execution_count": null,
   "metadata": {},
   "outputs": [],
   "source": [
    "df = pd.read_excel(\"testing data\\youtube_sentiment.xlsx\")\n",
    "df = df.drop(['id'], axis=1)\n",
    "dd=[]\n",
    "[dd.append([str(x)]) for x in set(df['class_label'])]\n",
    "s=set(df['class_label'])\n",
    "class_map={}\n",
    "for idx,x in enumerate(s):\n",
    "    class_map[x]=idx\n",
    "df['label']=[class_map[x] for x in df['class_label']]\n",
    "df.head()"
   ]
  },
  {
   "cell_type": "code",
   "execution_count": null,
   "metadata": {},
   "outputs": [],
   "source": [
    "df.to_excel(\"testing_data2//youtube_sentiment.xlsx\",index=False)"
   ]
  },
  {
   "cell_type": "markdown",
   "metadata": {},
   "source": [
    "(2)SentNoB Dataset"
   ]
  },
  {
   "cell_type": "code",
   "execution_count": null,
   "metadata": {},
   "outputs": [],
   "source": [
    "df = pd.read_excel(\"testing data\\SentNoB.xlsx\")\n",
    "dict1={\n",
    "    0: \"Neutral\",\n",
    "    1: \"Positive\",\n",
    "    2: \"Negative\"\n",
    "}\n",
    "df = df.rename(columns={\n",
    "    'Data': 'text',\n",
    "    'Label': 'label'\n",
    "})\n",
    "# df = df.drop(['id'], axis=1)\n",
    "# dd=[]\n",
    "# [dd.append([str(x)]) for x in set(df['class_label'])]\n",
    "# s=set(df['class_label'])\n",
    "# class_map={}\n",
    "# for idx,x in enumerate(s):\n",
    "#     class_map[x]=idx\n",
    "df['class_label']=[dict1[x] for x in df['label']]\n",
    "df.head()"
   ]
  },
  {
   "cell_type": "code",
   "execution_count": null,
   "metadata": {},
   "outputs": [],
   "source": [
    "df.to_excel(\"testing_data2//SentNoB.xlsx\",index=False)"
   ]
  },
  {
   "cell_type": "markdown",
   "metadata": {},
   "source": [
    "Bangla ( Bengali ) sentiment analysis classification benchmark dataset corpus(BSACD)"
   ]
  },
  {
   "cell_type": "code",
   "execution_count": null,
   "metadata": {},
   "outputs": [],
   "source": [
    "df = pd.read_excel(\"testing data\\BSACD.xlsx\")\n",
    "\n",
    "df = df.rename(columns={\n",
    "    'label': 'class_label'\n",
    "})\n",
    "dd=[]\n",
    "[dd.append([str(x)]) for x in set(df['class_label'])]\n",
    "s=set(df['class_label'])\n",
    "class_map={}\n",
    "for idx,x in enumerate(s):\n",
    "    class_map[x]=idx\n",
    "df['label']=[class_map[x] for x in df['class_label']]\n",
    "df.head()"
   ]
  },
  {
   "cell_type": "code",
   "execution_count": null,
   "metadata": {},
   "outputs": [],
   "source": [
    "df.to_excel(\"testing_data2//BSACD.xlsx\",index=False)"
   ]
  },
  {
   "cell_type": "markdown",
   "metadata": {},
   "source": [
    "(5) Sentiment Dataset (Bangla Text)"
   ]
  },
  {
   "cell_type": "code",
   "execution_count": 2,
   "metadata": {},
   "outputs": [
    {
     "data": {
      "text/html": [
       "<div>\n",
       "<style scoped>\n",
       "    .dataframe tbody tr th:only-of-type {\n",
       "        vertical-align: middle;\n",
       "    }\n",
       "\n",
       "    .dataframe tbody tr th {\n",
       "        vertical-align: top;\n",
       "    }\n",
       "\n",
       "    .dataframe thead th {\n",
       "        text-align: right;\n",
       "    }\n",
       "</style>\n",
       "<table border=\"1\" class=\"dataframe\">\n",
       "  <thead>\n",
       "    <tr style=\"text-align: right;\">\n",
       "      <th></th>\n",
       "      <th>class_label</th>\n",
       "      <th>Text</th>\n",
       "      <th>label</th>\n",
       "    </tr>\n",
       "  </thead>\n",
       "  <tbody>\n",
       "    <tr>\n",
       "      <th>0</th>\n",
       "      <td>Negative</td>\n",
       "      <td>মাদ্রিদ হারার পর পুরা মনটাই ভাইঙ্গা গেছে :( কি...</td>\n",
       "      <td>0</td>\n",
       "    </tr>\n",
       "    <tr>\n",
       "      <th>1</th>\n",
       "      <td>Negative</td>\n",
       "      <td>আমি মানুষটা খুব একটা ভালো না। আসলে ভালো থেকে ক...</td>\n",
       "      <td>0</td>\n",
       "    </tr>\n",
       "    <tr>\n",
       "      <th>2</th>\n",
       "      <td>Negative</td>\n",
       "      <td>নোয়াখালীতে একজন মারা গেছে পিকেটারদের ইটের আঘাত...</td>\n",
       "      <td>0</td>\n",
       "    </tr>\n",
       "    <tr>\n",
       "      <th>3</th>\n",
       "      <td>Negative</td>\n",
       "      <td>﻿মন দিতে না পারলে মন ভেঙো না। সুখ দিতে না পারল...</td>\n",
       "      <td>0</td>\n",
       "    </tr>\n",
       "    <tr>\n",
       "      <th>4</th>\n",
       "      <td>Negative</td>\n",
       "      <td>আজাইরা কামে যে প্রচুর সময় নষ্ট করি তা আজকেও আর...</td>\n",
       "      <td>0</td>\n",
       "    </tr>\n",
       "  </tbody>\n",
       "</table>\n",
       "</div>"
      ],
      "text/plain": [
       "  class_label                                               Text  label\n",
       "0    Negative  মাদ্রিদ হারার পর পুরা মনটাই ভাইঙ্গা গেছে :( কি...      0\n",
       "1    Negative  আমি মানুষটা খুব একটা ভালো না। আসলে ভালো থেকে ক...      0\n",
       "2    Negative  নোয়াখালীতে একজন মারা গেছে পিকেটারদের ইটের আঘাত...      0\n",
       "3    Negative  ﻿মন দিতে না পারলে মন ভেঙো না। সুখ দিতে না পারল...      0\n",
       "4    Negative  আজাইরা কামে যে প্রচুর সময় নষ্ট করি তা আজকেও আর...      0"
      ]
     },
     "execution_count": 2,
     "metadata": {},
     "output_type": "execute_result"
    }
   ],
   "source": [
    "import pandas as pd\n",
    "df = pd.read_excel(r\"testing data\\5_Sentiment_Dataset.xlsx\")\n",
    "\n",
    "df = df.rename(columns={\n",
    "    'Tag': 'class_label'\n",
    "})\n",
    "dd=[]\n",
    "[dd.append([str(x)]) for x in set(df['class_label'])]\n",
    "s=set(df['class_label'])\n",
    "class_map={}\n",
    "for idx,x in enumerate(s):\n",
    "    class_map[x]=idx\n",
    "df['label']=[class_map[x] for x in df['class_label']]\n",
    "df.head()"
   ]
  },
  {
   "cell_type": "code",
   "execution_count": null,
   "metadata": {},
   "outputs": [],
   "source": [
    "\n",
    "df.to_excel(\"testing_data2//5_Sentiment_Dataset.xlsx\",index=False)"
   ]
  },
  {
   "cell_type": "markdown",
   "metadata": {},
   "source": [
    "(6) Data Set For Sentiment Analysis On Bengali News Comments(dsfsa)"
   ]
  },
  {
   "cell_type": "code",
   "execution_count": 3,
   "metadata": {},
   "outputs": [
    {
     "data": {
      "text/html": [
       "<div>\n",
       "<style scoped>\n",
       "    .dataframe tbody tr th:only-of-type {\n",
       "        vertical-align: middle;\n",
       "    }\n",
       "\n",
       "    .dataframe tbody tr th {\n",
       "        vertical-align: top;\n",
       "    }\n",
       "\n",
       "    .dataframe thead th {\n",
       "        text-align: right;\n",
       "    }\n",
       "</style>\n",
       "<table border=\"1\" class=\"dataframe\">\n",
       "  <thead>\n",
       "    <tr style=\"text-align: right;\">\n",
       "      <th></th>\n",
       "      <th>data</th>\n",
       "      <th>class_label</th>\n",
       "      <th>label</th>\n",
       "    </tr>\n",
       "  </thead>\n",
       "  <tbody>\n",
       "    <tr>\n",
       "      <th>0</th>\n",
       "      <td>লিখার সময় পারলে সত্য লিখার অভ্যাস শিখুন।</td>\n",
       "      <td>কিছুটা নেতিবাচক</td>\n",
       "      <td>0</td>\n",
       "    </tr>\n",
       "    <tr>\n",
       "      <th>1</th>\n",
       "      <td>এটা কেন হচ্ছে? সংশ্লিষ্ট সকলের ডিপ্রেশনের ফলে?...</td>\n",
       "      <td>কিছুটা নেতিবাচক</td>\n",
       "      <td>0</td>\n",
       "    </tr>\n",
       "    <tr>\n",
       "      <th>2</th>\n",
       "      <td>আমাদের দেশের স্বাভাবিক অর্থনৈতিক গতিপ্রবাহকে ব...</td>\n",
       "      <td>নিশ্চিত নেতিবাচক</td>\n",
       "      <td>3</td>\n",
       "    </tr>\n",
       "    <tr>\n",
       "      <th>3</th>\n",
       "      <td>চুরি নয় লুটপাট।</td>\n",
       "      <td>নিশ্চিত নেতিবাচক</td>\n",
       "      <td>3</td>\n",
       "    </tr>\n",
       "    <tr>\n",
       "      <th>4</th>\n",
       "      <td>ইসলামী ব্যাংকের বর্তমান অবস্থা দেখে মনে হয় শাস...</td>\n",
       "      <td>নিরপেক্ষ</td>\n",
       "      <td>4</td>\n",
       "    </tr>\n",
       "  </tbody>\n",
       "</table>\n",
       "</div>"
      ],
      "text/plain": [
       "                                                data       class_label  label\n",
       "0           লিখার সময় পারলে সত্য লিখার অভ্যাস শিখুন।   কিছুটা নেতিবাচক      0\n",
       "1  এটা কেন হচ্ছে? সংশ্লিষ্ট সকলের ডিপ্রেশনের ফলে?...   কিছুটা নেতিবাচক      0\n",
       "2  আমাদের দেশের স্বাভাবিক অর্থনৈতিক গতিপ্রবাহকে ব...  নিশ্চিত নেতিবাচক      3\n",
       "3                                    চুরি নয় লুটপাট।  নিশ্চিত নেতিবাচক      3\n",
       "4  ইসলামী ব্যাংকের বর্তমান অবস্থা দেখে মনে হয় শাস...          নিরপেক্ষ      4"
      ]
     },
     "execution_count": 3,
     "metadata": {},
     "output_type": "execute_result"
    }
   ],
   "source": [
    "df = pd.read_excel(r\"testing data\\dsfsa.xlsx\")\n",
    "df = df[['data', 'tag']]\n",
    "df = df.rename(columns={\n",
    "    'tag': 'class_label'\n",
    "})\n",
    "dd=[]\n",
    "[dd.append([str(x)]) for x in set(df['class_label'])]\n",
    "s=set(df['class_label'])\n",
    "class_map={}\n",
    "for idx,x in enumerate(s):\n",
    "    class_map[x]=idx\n",
    "df['label']=[class_map[x] for x in df['class_label']]\n",
    "df.head()"
   ]
  },
  {
   "cell_type": "code",
   "execution_count": null,
   "metadata": {},
   "outputs": [],
   "source": [
    "\n",
    "df.to_excel(\"testing_data2//dsfsa.xlsx\",index=False)"
   ]
  },
  {
   "cell_type": "markdown",
   "metadata": {},
   "source": [
    "(7) BanglaBook"
   ]
  },
  {
   "cell_type": "code",
   "execution_count": 4,
   "metadata": {},
   "outputs": [
    {
     "data": {
      "text/html": [
       "<div>\n",
       "<style scoped>\n",
       "    .dataframe tbody tr th:only-of-type {\n",
       "        vertical-align: middle;\n",
       "    }\n",
       "\n",
       "    .dataframe tbody tr th {\n",
       "        vertical-align: top;\n",
       "    }\n",
       "\n",
       "    .dataframe thead th {\n",
       "        text-align: right;\n",
       "    }\n",
       "</style>\n",
       "<table border=\"1\" class=\"dataframe\">\n",
       "  <thead>\n",
       "    <tr style=\"text-align: right;\">\n",
       "      <th></th>\n",
       "      <th>text</th>\n",
       "      <th>class_label</th>\n",
       "      <th>label</th>\n",
       "    </tr>\n",
       "  </thead>\n",
       "  <tbody>\n",
       "    <tr>\n",
       "      <th>0</th>\n",
       "      <td>দারুন ‍একটা বই ,প্রথমে ভেবেছিলাম  Online থেকে ...</td>\n",
       "      <td>negative</td>\n",
       "      <td>0</td>\n",
       "    </tr>\n",
       "    <tr>\n",
       "      <th>1</th>\n",
       "      <td>সেরা বইগুলোর ভিতরে অন্যতম একটি বই মেসেজ।</td>\n",
       "      <td>positive</td>\n",
       "      <td>2</td>\n",
       "    </tr>\n",
       "    <tr>\n",
       "      <th>2</th>\n",
       "      <td>বইটি  আমার  প্রিয় ছিল খুব আগে থেকেই, টিচার্সরা...</td>\n",
       "      <td>positive</td>\n",
       "      <td>2</td>\n",
       "    </tr>\n",
       "    <tr>\n",
       "      <th>3</th>\n",
       "      <td>এটির প্রচ্ছদ দ্বারা একটি বই বিচার করুন 😎</td>\n",
       "      <td>negative</td>\n",
       "      <td>0</td>\n",
       "    </tr>\n",
       "    <tr>\n",
       "      <th>4</th>\n",
       "      <td>আমেরিকান লেখক জর্জ আর। আর মার্টিনের একটি মহাকা...</td>\n",
       "      <td>positive</td>\n",
       "      <td>2</td>\n",
       "    </tr>\n",
       "  </tbody>\n",
       "</table>\n",
       "</div>"
      ],
      "text/plain": [
       "                                                text class_label  label\n",
       "0  দারুন ‍একটা বই ,প্রথমে ভেবেছিলাম  Online থেকে ...    negative      0\n",
       "1           সেরা বইগুলোর ভিতরে অন্যতম একটি বই মেসেজ।    positive      2\n",
       "2  বইটি  আমার  প্রিয় ছিল খুব আগে থেকেই, টিচার্সরা...    positive      2\n",
       "3           এটির প্রচ্ছদ দ্বারা একটি বই বিচার করুন 😎    negative      0\n",
       "4  আমেরিকান লেখক জর্জ আর। আর মার্টিনের একটি মহাকা...    positive      2"
      ]
     },
     "execution_count": 4,
     "metadata": {},
     "output_type": "execute_result"
    }
   ],
   "source": [
    "df = pd.read_excel(r\"testing data\\BanglaBook.xlsx\")\n",
    "df = df[['Review', 'sentiment',\"label\"]]\n",
    "df = df.rename(columns={\n",
    "    'sentiment': 'class_label',\n",
    "    'Review': 'text'\n",
    "})\n",
    "# dd=[]\n",
    "# [dd.append([str(x)]) for x in set(df['class_label'])]\n",
    "# s=set(df['class_label'])\n",
    "# class_map={}\n",
    "# for idx,x in enumerate(s):\n",
    "#     class_map[x]=idx\n",
    "# df['label']=[class_map[x] for x in df['class_label']]\n",
    "df.head()"
   ]
  },
  {
   "cell_type": "code",
   "execution_count": null,
   "metadata": {},
   "outputs": [],
   "source": [
    "\n",
    "df.to_excel(\"testing_data2//BanglaBook.xlsx\",index=False)"
   ]
  },
  {
   "cell_type": "code",
   "execution_count": 53,
   "metadata": {},
   "outputs": [
    {
     "name": "stdout",
     "output_type": "stream",
     "text": [
      "5_Sentiment_Dataset.xlsx\n",
      "Negative --> 7510\n",
      "Positive --> 8015\n",
      "ABSA_Datasets.xlsx\n",
      "negative --> 2491\n",
      "neutral --> 503\n",
      "positive --> 1651\n",
      "BanglaBook.xlsx\n",
      "negative --> 9674\n",
      "neutral --> 6804\n",
      "positive --> 141587\n",
      "BSACD.xlsx\n",
      "negative --> 3308\n",
      "positive --> 8501\n",
      "CogniSenti.xlsx\n",
      "Neutral --> 3749\n",
      "Negative --> 1333\n",
      "Positive --> 1488\n",
      "dsfsa.xlsx\n",
      "নিশ্চিত ইতিবাচক --> 2280\n",
      "কিছুটা নেতিবাচক --> 3198\n",
      "কিছুটা ইতিবাচক --> 1445\n",
      "নিরপেক্ষ --> 2951\n",
      "নিশ্চিত নেতিবাচক --> 3928\n",
      "multichannel_bsentiment.xlsx\n",
      "Negative --> 4634\n",
      "Positive --> 3786\n",
      "SentNoB.xlsx\n",
      "Neutral --> 3609\n",
      "Negative --> 5709\n",
      "Positive --> 6410\n",
      "youtube_sentiment.xlsx\n",
      "Neutral --> 761\n",
      "Negative --> 1283\n",
      "Positive --> 752\n"
     ]
    }
   ],
   "source": [
    "for x in os.listdir(\"testing_data2\"):\n",
    "    print(x)\n",
    "    df=pd.read_excel(os.path.join(\"testing_data2\",x))\n",
    "    s=list(set(df['class_label']))\n",
    "    for x in s:\n",
    "        print(x,\"-->\",len(df[df['class_label']==x]))"
   ]
  },
  {
   "cell_type": "code",
   "execution_count": null,
   "metadata": {},
   "outputs": [],
   "source": []
  }
 ],
 "metadata": {
  "kernelspec": {
   "display_name": "ai_clssifier",
   "language": "python",
   "name": "python3"
  },
  "language_info": {
   "codemirror_mode": {
    "name": "ipython",
    "version": 3
   },
   "file_extension": ".py",
   "mimetype": "text/x-python",
   "name": "python",
   "nbconvert_exporter": "python",
   "pygments_lexer": "ipython3",
   "version": "3.10.13"
  }
 },
 "nbformat": 4,
 "nbformat_minor": 2
}
